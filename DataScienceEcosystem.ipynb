{
  "metadata": {
    "kernelspec": {
      "name": "python",
      "display_name": "Python (Pyodide)",
      "language": "python"
    },
    "language_info": {
      "codemirror_mode": {
        "name": "python",
        "version": 3
      },
      "file_extension": ".py",
      "mimetype": "text/x-python",
      "name": "python",
      "nbconvert_exporter": "python",
      "pygments_lexer": "ipython3",
      "version": "3.8"
    }
  },
  "nbformat_minor": 5,
  "nbformat": 4,
  "cells": [
    {
      "id": "f94d5316-40ea-4cec-be97-81a6213d0088",
      "cell_type": "markdown",
      "source": "# Data Science Tools and Ecosystem",
      "metadata": {}
    },
    {
      "id": "355e1491-950d-4e14-8a09-ee455db5d2ca",
      "cell_type": "markdown",
      "source": "## In this notebook, Data Science Tools and Ecosystem are summarized",
      "metadata": {}
    },
    {
      "id": "37717a94-2efc-4379-91ab-31ea8a082410",
      "cell_type": "markdown",
      "source": "### Some of the popular languages that Data Scientists use are:\n1. Python\n2. R\n3. SQL",
      "metadata": {}
    },
    {
      "id": "ff0ec700-748d-43cf-9699-23c8f4fd2d59",
      "cell_type": "markdown",
      "source": "### Some of the commonly used libraries used by Data Scientists include\n1. NumPy\n2. Pandas\n3. TensorFlow\n",
      "metadata": {}
    },
    {
      "id": "ee4cf563-4d92-4359-a446-708e1dbf4ab2",
      "cell_type": "markdown",
      "source": "|Data Science Tools|\n|---------------|\n|Jupyter Notebook|\n|Apache Spark|\n|RStudio|\n",
      "metadata": {}
    },
    {
      "id": "35af865e-bce4-4ff4-8e72-0c19e489acb4",
      "cell_type": "markdown",
      "source": "### Below are a few examples of evaluating arithmetic expressions in Python\n",
      "metadata": {}
    },
    {
      "id": "63dc4775-f2de-4e65-aaf8-56aa125ea101",
      "cell_type": "code",
      "source": "# This a simple arithmetic expression to mutiply then add integers\n(3*4)+5",
      "metadata": {
        "trusted": true
      },
      "outputs": [
        {
          "execution_count": 5,
          "output_type": "execute_result",
          "data": {
            "text/plain": "17"
          },
          "metadata": {}
        }
      ],
      "execution_count": 5
    },
    {
      "id": "bf78c01b-0bfc-48a9-b592-4283e6db439c",
      "cell_type": "code",
      "source": "# This will convert 200 minutes to hours by diving by 60\n\nminutes = 200\nhours = minutes / 60\nprint(f\"{minutes} minutes  equal to {hours} hours\")\n",
      "metadata": {
        "trusted": true
      },
      "outputs": [
        {
          "name": "stdout",
          "output_type": "stream",
          "text": "200 minutes  equal to 3.3333333333333335 hours\n"
        }
      ],
      "execution_count": 9
    },
    {
      "id": "1dac79c1-e6b5-4f87-aea1-e177e99b0bba",
      "cell_type": "markdown",
      "source": "### some of the key takeaways from the course\n**Objectives:**\n- Python\n- R\n- Jupyter Notebook",
      "metadata": {}
    },
    {
      "id": "7e01d3cd-0808-40bd-9e7e-317ba3ab2520",
      "cell_type": "markdown",
      "source": "## Author \nRobi",
      "metadata": {}
    }
  ]
}